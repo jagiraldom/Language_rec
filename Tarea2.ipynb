{
  "nbformat": 4,
  "nbformat_minor": 0,
  "metadata": {
    "colab": {
      "provenance": []
    },
    "kernelspec": {
      "name": "python3",
      "display_name": "Python 3"
    },
    "language_info": {
      "name": "python"
    }
  },
  "cells": [
    {
      "cell_type": "code",
      "execution_count": 21,
      "metadata": {
        "colab": {
          "base_uri": "https://localhost:8080/"
        },
        "id": "zggk-Z1Vvsl7",
        "outputId": "210d1571-6508-42c9-8e0b-b43bcde9ff0d"
      },
      "outputs": [
        {
          "output_type": "stream",
          "name": "stdout",
          "text": [
            "Looking in indexes: https://pypi.org/simple, https://us-python.pkg.dev/colab-wheels/public/simple/\n",
            "Requirement already satisfied: alphabets in /usr/local/lib/python3.8/dist-packages (0.1)\n"
          ]
        }
      ],
      "source": [
        "!pip install alphabets"
      ]
    },
    {
      "cell_type": "code",
      "source": [
        "en_alphabet = list(range(97, 123))\n",
        "es_alphabet = en_alphabet.copy()\n",
        "es_alphabet.append(241)\n",
        "\n",
        "all_ascii = list(range(256))\n",
        "non_alphabetic_en = [simbol for simbol in all_ascii if simbol not in en_alphabet] \n",
        "non_alphabetic_es = [simbol for simbol in all_ascii if simbol not in es_alphabet]\n",
        "\n",
        "alphabets = {\n",
        "    \"en_alphabet\": en_alphabet,\n",
        "    \"es_alphabet\": es_alphabet,\n",
        "    \"non_alphabetic_en\": non_alphabetic_en,\n",
        "    \"non_alphabetic_es\": non_alphabetic_es\n",
        "}"
      ],
      "metadata": {
        "id": "x__X5uy5wfbW"
      },
      "execution_count": 22,
      "outputs": []
    },
    {
      "cell_type": "code",
      "source": [
        "\n",
        "\n",
        "def scan_model(text_file:str, language=\"en\")->dict:\n",
        "\n",
        "    with open(text_file, 'r', encoding='utf-8') as file:\n",
        "        text = (file.readlines())\n",
        "    all_words = \"\".join(text)\n",
        "            \n",
        "    hist = dict()\n",
        "\n",
        "    if len(all_words) != 0:\n",
        "        for code in alphabets[f\"non_alphabetic_{language}\"]:\n",
        "            all_words = all_words.replace(chr(code), \"\")\n",
        "        all_words = all_words.lower()\n",
        "\n",
        "        for code in alphabets[f\"{language}_alphabet\"]:\n",
        "            hist[chr(code)] = all_words.count(chr(code))/len(all_words)\n",
        "    \n",
        "    return hist\n",
        "\n",
        "en_model = scan_model(\"en_train.txt\", \"en\")\n",
        "es_model = scan_model(\"es_train.txt\", \"es\")\n",
        "# print(es_model, en_model, sep=\"\\n\\n\") # agregar formato para imprimir\n",
        "if __name__ == \"__main__\":\n",
        "    scan_model\n",
        "    #print(scan_model(\"sample.txt\"))\n",
        "    #print(scan_model(\"sample.txt\", \"es\"))\n"
      ],
      "metadata": {
        "id": "aSj9lk_3wngg"
      },
      "execution_count": 23,
      "outputs": []
    },
    {
      "cell_type": "code",
      "source": [
        "\n",
        "\n",
        "from math import log\n",
        "\n",
        "def scan_test(text_file:str, language=\"en\")->str:\n",
        "\n",
        "    with open(text_file, 'r', encoding='utf-8') as file:\n",
        "        text = (file.readlines())\n",
        "    all_words = \"\".join(text)\n",
        "    \n",
        "    for code in alphabets[f\"non_alphabetic_{language}\"]:\n",
        "        all_words = all_words.replace(chr(code), \"\")\n",
        "    all_words = all_words.lower()\n",
        "\n",
        "    return all_words\n",
        "\n",
        "def likelihood(string:str, probs:dict):\n",
        "    result = 1.0\n",
        "    for letter in string:\n",
        "        result = result*probs[letter]\n",
        "\n",
        "    return result\n",
        "\n",
        "def log_likelihood(string:str, probs:dict):\n",
        "    result = 0.0\n",
        "    for letter in string:\n",
        "        if probs[letter] != 0:\n",
        "            result = result + log(probs[letter])\n",
        "    return result\n",
        "\n",
        "if __name__ == \"__main__\":\n",
        "  pass\n",
        "    # t1 = scan_test(\"en_train.txt\", \"en\")\n",
        "    # t2 = scan_test(\"es_train.txt\", \"es\")\n",
        "    # print(log_likelihood(t1, en_model), likelihood(t1, en_model))\n",
        "    # print(log_likelihood(t1, es_model), likelihood(t1, es_model))\n",
        "    # print(log_likelihood(t2, es_model), likelihood(t2, es_model))\n",
        "    # print(log_likelihood(t2, en_model), likelihood(t2, en_model))\n",
        "    "
      ],
      "metadata": {
        "id": "NYm7WW5_wz7o"
      },
      "execution_count": 24,
      "outputs": []
    },
    {
      "cell_type": "code",
      "source": [
        "Text = str.lower(input (\"Ingrese una frase en español o ingles: \"))\n",
        "Text = Text.replace(\" \",\"\")\n",
        "spa_eng = int(input (\"Si escribio en ingles marque 1 si fue en español escriba 0: \"))\n",
        "\n",
        "english = log_likelihood(Text, en_model), likelihood(Text, en_model)\n",
        "spanish = log_likelihood(Text, es_model), likelihood(Text, es_model)\n",
        "\n",
        "\n",
        "if english[1]>spanish[1]:\n",
        "  print(\"Predigo que es Ingles\")\n",
        "  if spa_eng == 1:\n",
        "    print(\"Se predijo correctamente con \")\n",
        "  else :\n",
        "    print(\"No pude predecir bien\")\n",
        "else:\n",
        "    print(\"Predigo que es Español\")\n",
        "    if spa_eng == 0:\n",
        "      print(\"Se predijo correctamente\")\n",
        "    else :\n",
        "      print(\"No pude predecir bien\")\n"
      ],
      "metadata": {
        "colab": {
          "base_uri": "https://localhost:8080/"
        },
        "id": "q6Y4Dk0_w_f1",
        "outputId": "6a164158-c0e1-4bfd-b4e3-c1e16411c006"
      },
      "execution_count": 37,
      "outputs": [
        {
          "output_type": "stream",
          "name": "stdout",
          "text": [
            "Ingrese una frase en español o ingles: hola\n",
            "Si escribio en ingles marque 1 si fue en español escriba 0: 0\n",
            "Predigo que es Ingles\n",
            "No pude predecir bien 0.0 %\n"
          ]
        }
      ]
    }
  ]
}