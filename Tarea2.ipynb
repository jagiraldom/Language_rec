{
  "cells": [
    {
      "attachments": {},
      "cell_type": "markdown",
      "metadata": {},
      "source": [
        "# Language prediction"
      ]
    },
    {
      "attachments": {},
      "cell_type": "markdown",
      "metadata": {},
      "source": [
        "In this notebook we are going to train a simple statistical model attempting to predict the language of a string input. For this we are going to take two texts, one in Spanish and the other in English, and we are going to count the frequency with which the letters appear. This will be our basis for calculating the log likelihood for the strings to be predicted."
      ]
    },
    {
      "attachments": {},
      "cell_type": "markdown",
      "metadata": {},
      "source": [
        "#### Required packages"
      ]
    },
    {
      "cell_type": "code",
      "execution_count": 8,
      "metadata": {},
      "outputs": [],
      "source": [
        "import os.path # To handle paths\n",
        "from math import log \n",
        "import matplotlib.pyplot as plt\n",
        "import pandas as pd"
      ]
    },
    {
      "attachments": {},
      "cell_type": "markdown",
      "metadata": {},
      "source": [
        "#### Input alphabets\n",
        "First we are going to set the base alphabets we are going to work with. For this we use ASCII codes to generate the alphabets and a dictionary to store these as lists."
      ]
    },
    {
      "cell_type": "code",
      "execution_count": 9,
      "metadata": {
        "id": "x__X5uy5wfbW"
      },
      "outputs": [],
      "source": [
        "en_alphabet = list(range(97, 123))\n",
        " \n",
        "es_alphabet = en_alphabet.copy()\n",
        "es_alphabet.append(241)\n",
        "\n",
        "all_ascii = list(range(256))\n",
        "non_alphabetic_en = [simbol for simbol in all_ascii if simbol not in en_alphabet] \n",
        "non_alphabetic_es = [simbol for simbol in all_ascii if simbol not in es_alphabet]\n",
        "\n",
        "alphabets = {\n",
        "    \"en_alphabet\": en_alphabet,\n",
        "    \"es_alphabet\": es_alphabet,\n",
        "    \"non_alphabetic_en\": non_alphabetic_en,\n",
        "    \"non_alphabetic_es\": non_alphabetic_es\n",
        "  }\n",
        "  # We create our alphabets separating english from spanish and there respective non alphabetical charaters"
      ]
    },
    {
      "attachments": {},
      "cell_type": "markdown",
      "metadata": {},
      "source": [
        "#### Training the model\n",
        "Now we are going to take the training texts and leave only the letters, without spaces or characters that are outside the alphabet. With this we are going to count the frequency of each letter in the texts and store that information in their corresponding dictionaries.\n",
        "(Both texts are about 100,000 words long)"
      ]
    },
    {
      "cell_type": "code",
      "execution_count": 10,
      "metadata": {
        "id": "aSj9lk_3wngg"
      },
      "outputs": [],
      "source": [
        "def scan_model(text_file:str, language=\"en\")->dict:\n",
        "\n",
        "    \"\"\"\n",
        "    Reads 'text_file' in 'language' format, clears nonalphabetic symbols and counts frequencies\n",
        "    \"\"\"\n",
        "    \n",
        "    with open(text_file, 'r', encoding='utf-8') as file:\n",
        "        text = (file.readlines())\n",
        "    all_words = \"\".join(text)\n",
        "            \n",
        "    hist = dict()\n",
        "\n",
        "    if len(all_words) != 0:\n",
        "        all_words = all_words.lower()\n",
        "        for code in alphabets[f\"non_alphabetic_{language}\"]:\n",
        "            all_words = all_words.replace(chr(code), \"\")\n",
        "\n",
        "        for code in alphabets[f\"{language}_alphabet\"]:\n",
        "            hist[chr(code)] = all_words.count(chr(code))/len(all_words)\n",
        "    \n",
        "    return hist\n",
        "\n",
        "en_model = scan_model(os.path.join(\"Train_data\",\"en_train.txt\"), \"en\") \n",
        "es_model = scan_model(os.path.join(\"Train_data\",\"es_train.txt\"), \"es\") \n",
        "# 2 models are now trained by reading texts, the english model will read harry potter and will count the amount of letters \n",
        "# creating the frequencies of these(non alphabetical chars are removed), the same will be done in spanish with El quijote de la mancha \n"
      ]
    },
    {
      "attachments": {},
      "cell_type": "markdown",
      "metadata": {},
      "source": [
        "#### Frecuencies of the English model"
      ]
    },
    {
      "cell_type": "code",
      "execution_count": 11,
      "metadata": {},
      "outputs": [
        {
          "data": {
            "image/png": "[encoded data removed]",
            "text/plain": [
              "<Figure size 640x480 with 1 Axes>"
            ]
          },
          "metadata": {},
          "output_type": "display_data"
        }
      ],
      "source": [
        "names = list(en_model.keys())\n",
        "values = list(en_model.values())\n",
        "\n",
        "plt.bar(range(len(en_model)), values, tick_label=names)\n",
        "plt.show()"
      ]
    },
    {
      "attachments": {},
      "cell_type": "markdown",
      "metadata": {},
      "source": [
        "#### Frecuencies of the Spanish model"
      ]
    },
    {
      "cell_type": "code",
      "execution_count": 12,
      "metadata": {},
      "outputs": [
        {
          "data": {
            "image/png": "[encoded data removed]",
            "text/plain": [
              "<Figure size 640x480 with 1 Axes>"
            ]
          },
          "metadata": {},
          "output_type": "display_data"
        }
      ],
      "source": [
        "names = list(es_model.keys())\n",
        "values = list(es_model.values())\n",
        "\n",
        "plt.bar(range(len(es_model)), values, tick_label=names)\n",
        "plt.show()"
      ]
    },
    {
      "attachments": {},
      "cell_type": "markdown",
      "metadata": {},
      "source": [
        "#### Testing and measures\n",
        "\n",
        "Finally, we constructed the following functions that allow us to clean input texts and calculate their likelihood and log likelihood with respect to each language"
      ]
    },
    {
      "cell_type": "code",
      "execution_count": 13,
      "metadata": {
        "id": "NYm7WW5_wz7o"
      },
      "outputs": [],
      "source": [
        "def scan_test(text_file:str, language=\"en\")->str:\n",
        "\n",
        "    \"\"\"\n",
        "    Reads 'text_file' in 'language' format, clears nonalphabetic symbols\n",
        "    \"\"\"\n",
        "\n",
        "    with open(text_file, 'r', encoding='utf-8') as file:\n",
        "        text = (file.readlines())\n",
        "    all_words = \"\".join(text)\n",
        "    all_words = all_words.lower()\n",
        "    for code in alphabets[f\"non_alphabetic_{language}\"]:\n",
        "        all_words = all_words.replace(chr(code), \"\")\n",
        "\n",
        "    return all_words\n",
        "\n",
        "def likelihood(string:str, probs:dict):\n",
        "    result = 1.0\n",
        "    for letter in string:\n",
        "        result = result*probs[letter]\n",
        "\n",
        "    return result\n",
        "\n",
        "def log_likelihood(string:str, probs:dict):\n",
        "    result = 0.0\n",
        "    for letter in string:\n",
        "        if probs[letter] != 0:\n",
        "            result = result + log(probs[letter])\n",
        "    return result \n",
        "# We define the likelihood and loglikelihood functions"
      ]
    },
    {
      "attachments": {},
      "cell_type": "markdown",
      "metadata": {},
      "source": [
        "Based on these functions we performed 10 tests with the text files in the \"Test_data\" folder (a very small test but it allowed us to have a look at the model). We obtained 7 hits between 5 Spanish sentences and 5 English sentences."
      ]
    },
    {
      "attachments": {},
      "cell_type": "markdown",
      "metadata": {},
      "source": [
        "#### Interactive input\n",
        "You can test the model by executing the box below"
      ]
    },
    {
      "cell_type": "code",
      "execution_count": null,
      "metadata": {
        "colab": {
          "base_uri": "https://localhost:8080/"
        },
        "id": "q6Y4Dk0_w_f1",
        "outputId": "6a164158-c0e1-4bfd-b4e3-c1e16411c006"
      },
      "outputs": [
        {
          "name": "stdout",
          "output_type": "stream",
          "text": [
            "I predict it is English\n",
            "Correctly predicted -99.42988039654819 -106.24796088857441\n"
          ]
        }
      ],
      "source": [
        "Text = str.lower(input (\"Enter a phrase in English or Spanish: \"))\n",
        "Text = Text.replace(\" \",\"\")\n",
        "spa_eng = int(input (\"If you wrote in Spanish write 0, otherwise type 1: \"))\n",
        "log_li = int(input (\"If you want to use log likelihood type 0 If you want to use likelihood type 1: \"))\n",
        "\n",
        "english = log_likelihood(Text, en_model), likelihood(Text, en_model)\n",
        "spanish = log_likelihood(Text, es_model), likelihood(Text, es_model)\n",
        "\n",
        "if english[log_li]>spanish[log_li]:\n",
        "  print(\"I predict it is English\")\n",
        "  if spa_eng == 1:\n",
        "    print(\"Correctly predicted\",str(english[log_li]),str(spanish[log_li]) )\n",
        "  else :\n",
        "    print(\"I could not predict well \",str(english[log_li]),str(spanish[log_li]) )\n",
        "else:\n",
        "    print(\"I predict it is Spanish\")\n",
        "    if spa_eng == 0:\n",
        "      print(\"Correctly predicted\",str(english[log_li]),str(spanish[log_li])  )\n",
        "    else :\n",
        "      print(\"I could not predict well\",str(english[log_li]),str(spanish[log_li]) )\n",
        "# Using our english and spanish trained models, both of them will be compared to the new text by using likelihood abd loglikelihood \n",
        "# it will be determined what language the new text is, for confirmation we will se if the predicction is correct \n"
      ]
    }
  ],
  "metadata": {
    "colab": {
      "provenance": []
    },
    "kernelspec": {
      "display_name": "Python 3",
      "language": "python",
      "name": "python3"
    },
    "language_info": {
      "codemirror_mode": {
        "name": "ipython",
        "version": 3
      },
      "file_extension": ".py",
      "mimetype": "text/x-python",
      "name": "python",
      "nbconvert_exporter": "python",
      "pygments_lexer": "ipython3",
      "version": "3.11.1"
    },
    "vscode": {
      "interpreter": {
        "hash": "ed86cd87725ed3eb26236ff68aec3c2b48ba86ad759f4f31f53d096e39ba85b5"
      }
    }
  },
  "nbformat": 4,
  "nbformat_minor": 0
}
